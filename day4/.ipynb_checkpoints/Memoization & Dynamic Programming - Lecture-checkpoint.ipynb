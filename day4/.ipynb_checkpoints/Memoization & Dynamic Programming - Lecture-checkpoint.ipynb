{
 "cells": [
  {
   "cell_type": "markdown",
   "metadata": {
    "id": "8P1klAFzL882"
   },
   "source": [
    "# Memoization & Dynamic Programming \n",
    "\n",
    "### Topics to discuss today:\n",
    "\n",
    "<ul>\n",
    "    <li>Time and Space Complexity  of recursive fibonnaci</li>\n",
    "    <li>The fibonacci Tree</li>\n",
    "    <li>storing solutions to sub problems</li>\n",
    "    <li>solving popular problems</li>\n",
    "</ul>\n",
    "<br><br><br><br>"
   ]
  },
  {
   "cell_type": "markdown",
   "metadata": {
    "id": "6LW5cbHeL885"
   },
   "source": [
    "### The Fibonacci sequence"
   ]
  },
  {
   "cell_type": "code",
   "execution_count": null,
   "metadata": {
    "id": "iGTKoyxQL886",
    "outputId": "2e4d2a75-6295-49e7-a2ee-b94068fcb631"
   },
   "outputs": [
    {
     "data": {
      "text/plain": [
       "13"
      ]
     },
     "execution_count": 5,
     "metadata": {},
     "output_type": "execute_result"
    }
   ],
   "source": [
    "def fib(n):\n",
    "    if n <= 2:\n",
    "        return 1\n",
    "    else:\n",
    "        return fib(n-1) + fib(n-2)\n",
    "fib(7)"
   ]
  },
  {
   "cell_type": "markdown",
   "metadata": {
    "id": "T9mtODnLL889"
   },
   "source": [
    "Calculating the time space complexity of the Fibbonacci sequence\n"
   ]
  },
  {
   "cell_type": "code",
   "execution_count": null,
   "metadata": {
    "id": "dMmOggzKL88-",
    "outputId": "f7a22081-06f5-4890-bef1-c9cc23738e9f"
   },
   "outputs": [
    {
     "name": "stdout",
     "output_type": "stream",
     "text": [
      "9\n",
      "8\n",
      "7\n",
      "6\n",
      "5\n",
      "4\n",
      "3\n",
      "2\n",
      "1\n"
     ]
    },
    {
     "data": {
      "text/plain": [
       "1"
      ]
     },
     "execution_count": 13,
     "metadata": {},
     "output_type": "execute_result"
    }
   ],
   "source": [
    "# Dealing with time space in recursion\n",
    "\n",
    "def dib(n):\n",
    "    print(n)\n",
    "    if n <=1:\n",
    "        return 1\n",
    "    else:\n",
    "        return dib(n-1) #Extra call on the stack = O(n) time & space\n",
    "dib(9)"
   ]
  },
  {
   "cell_type": "markdown",
   "metadata": {
    "id": "VnCHTcoyL88-"
   },
   "source": [
    "## Trees"
   ]
  },
  {
   "cell_type": "markdown",
   "metadata": {
    "id": "uQnfRL3PL88_"
   },
   "source": [
    "the fibonacci sequence can be visualized using a tree structure. Lets look at the elements of a tree before discussing the fibonnaci tree:\n",
    "\n",
    "<img src=\"https://www.tutorialspoint.com/data_structures_algorithms/images/binary_tree.jpg\" style=\"height:400px;\">"
   ]
  },
  {
   "cell_type": "markdown",
   "metadata": {
    "id": "Y0WvKPAJL88_"
   },
   "source": [
    "Let's look at the fibonnaci tree:\n",
    "\n",
    "<img src=\"data:image/jpeg;base64,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\" style=\"height:200px;\">"
   ]
  },
  {
   "cell_type": "markdown",
   "metadata": {
    "id": "4UG_eUdjL89D"
   },
   "source": [
    "## Memoization\n",
    "\n",
    "#### What is it?\n",
    "\n",
    "In computing, memoization or memoisation is an optimization technique used primarily to speed up computer programs by storing the results of expensive function calls and returning the cached result when the same inputs occur again. Memoization has also been used in other contexts (and for purposes other than speed gains), such as in simple mutually recursive descent parsing.\n",
    "\n",
    "#### When should we use it?\n",
    "\n",
    "Some problems are largely made of <b>overlapping subproblems</b>. When we find our code is solving the same problem multiple times over it's a good idea to store them so we don't have to recompute those solutions. This is known as Dynamic Programming "
   ]
  },
  {
   "cell_type": "code",
   "execution_count": null,
   "metadata": {
    "id": "TV8-J0L8L89E",
    "outputId": "92c2b7f1-7e6a-4a8c-8e92-24f435aa11d7"
   },
   "outputs": [
    {
     "data": {
      "text/plain": [
       "12586269025"
      ]
     },
     "execution_count": 7,
     "metadata": {},
     "output_type": "execute_result"
    }
   ],
   "source": [
    "def fib(n,memo = {}):\n",
    "    if n in memo:\n",
    "        return memo[n]\n",
    "    if n <= 2:\n",
    "        return 1\n",
    "    else:\n",
    "        memo[n] =  fib(n-1) + fib(n-2)\n",
    "        return memo[n]\n",
    "fib(50)"
   ]
  },
  {
   "cell_type": "markdown",
   "metadata": {
    "id": "zC38ml2IL89F"
   },
   "source": [
    "## TwoSum Problem"
   ]
  },
  {
   "cell_type": "markdown",
   "metadata": {
    "id": "CurBOtU0L89G"
   },
   "source": [
    "Given an array of integers, return indices of the two numbers such that they add up to a specific target.\n",
    "\n",
    "You may assume that each input would have exactly one solution, and you may not use the same element twice."
   ]
  },
  {
   "cell_type": "code",
   "execution_count": null,
   "metadata": {
    "id": "-q7iuwpXL89G"
   },
   "outputs": [],
   "source": [
    "def twoNumberSum(array, targetSum):\n",
    "    answer = []\n",
    "    target_dict = {}\n",
    "    \n",
    "    for num in array:\n",
    "        if num in target_dict:\n",
    "            answer = [num, target_dict[num]]\n",
    "             break\n",
    "        else:\n",
    "            target_dict[targetSum - num] = num\n",
    "\n",
    "    return answer"
   ]
  },
  {
   "cell_type": "code",
   "execution_count": 49,
   "metadata": {
    "id": "H8PeocPqL89G"
   },
   "outputs": [],
   "source": [
    "from IPython.display import clear_output as clear\n",
    "class User:\n",
    "    def __init__(self,name):\n",
    "        self.name = name\n",
    "        self.properties = []\n",
    "\n",
    "class Property:\n",
    "    def __init__(self,name):\n",
    "        self.name = name\n",
    "        self.income = {}\n",
    "        self.total_income = 0\n",
    "        self.expenses = {}\n",
    "        self.total_expenses = 0\n",
    "        self.cashflow = 0\n",
    "        self.investments = {}\n",
    "        self.total_investments = sum(self.investments.values())\n",
    "        self.roi = 0\n",
    "        \n",
    "class Income:\n",
    "    def __init__(self,name,value):\n",
    "        self.name = name\n",
    "        self.value = value\n",
    "        \n",
    "class Expenses:\n",
    "    def __init__(self,name,value):\n",
    "        self.name = name\n",
    "        self.value = value\n",
    "        \n",
    "class Investments:\n",
    "    def __init__(self,name,value):\n",
    "        self.name = name\n",
    "        self.value = value\n",
    "        \n",
    "class Main():\n",
    "    def __init__(self):\n",
    "        self.users = []\n",
    "        self.current_user = None\n",
    "        self.current_property = None\n",
    "        \n",
    "    def create_user(self):\n",
    "        name_input = input(\"Enter a username: \")\n",
    "        if name_input.lower() in self.users:\n",
    "            print(\"That username is already taken\")\n",
    "        else:\n",
    "            user = User(name_input)\n",
    "            self.users.append(user)\n",
    "            self.current_user = user\n",
    "            clear()\n",
    "            print(f\"{user.name} has been added as a user\")\n",
    "    \n",
    "    def choose_user(self):\n",
    "        if len(self.users) <= 1:\n",
    "            print(\"You have one user!\")\n",
    "        for i in self.users:\n",
    "            print(i.name)\n",
    "        name_input = input(\"Pick a username: \")\n",
    "        if name_input.lower() not in self.users:\n",
    "            print(\"That username does not exist\")\n",
    "        else:\n",
    "            self.current_user = name_input\n",
    "            clear()\n",
    "            print(f\"Welcome {self.current_user.name}\")\n",
    "    \n",
    "    def display_properties(self):\n",
    "        if not self.current_user.properties:\n",
    "            clear()\n",
    "            print(\"You have 0 properties\")\n",
    "        else:\n",
    "            clear()\n",
    "            for i in self.current_user.properties:\n",
    "                print(f\"{i.name} - {i.roi}\")\n",
    "            print(f\"You have a total of {len(self.current_user.properties)}\")\n",
    "       \n",
    "    def delete_property(self):\n",
    "        if not self.current_user.properties:\n",
    "            clear()\n",
    "            print(\"You have no property to delete!\")\n",
    "        else:\n",
    "            for i in range(len(self.current_user.properties)):\n",
    "                print(f\"{i} {self.current_user.properties[i].name} - {self.current_user.properties[i].roi}\")\n",
    "            prop = input(\"Choose a property to delete by number or enter RETURN:  \")\n",
    "            if prop.lower() == \"return\":\n",
    "                return\n",
    "            prop = int(prop)\n",
    "            if prop >= len(self.current_user.properties):\n",
    "                print(f\"Invalid number\")\n",
    "            else:\n",
    "                print(f\"You have deleted {self.current_user.properties[prop].name}!\")\n",
    "                self.current_user.properties.remove(self.current_user.properties[prop])\n",
    "                if not self.current_user.properties:\n",
    "                    print(\"You now have 0 properties\")\n",
    "                else:\n",
    "                    self.current_property = self.current_user.properties[-1]\n",
    "                    clear()\n",
    "                    print(f\"Your current property has changed to {self.current_property.name}\")\n",
    "                \n",
    "    \n",
    "    def switch_property(self):\n",
    "        if len(self.current_user.properties) <= 1:\n",
    "            clear()\n",
    "            print(\"You have one property! Go get more!\")\n",
    "        else:\n",
    "            for i in range(len(self.current_user.properties)):\n",
    "                print(f\"{i} {self.current_user.properties[i].name} - {self.current_user.properties[i].roi}\")\n",
    "            prop = input(\"Choose a property to switch by number or enter RETURN:  \")\n",
    "            if prop.lower() == \"return\":\n",
    "                clear()\n",
    "                return\n",
    "            prop = int(prop)\n",
    "            if prop >= len(self.current_user.properties):\n",
    "                print(f\"Invalid number\")\n",
    "            else:\n",
    "                self.current_property = self.current_user.properties[prop]\n",
    "                clear()\n",
    "                print(f\"You are now in {self.current_user.properties[prop].name}\")\n",
    "                \n",
    "    def modify_property(self):\n",
    "        if self.current_property == None:\n",
    "            clear()\n",
    "            print(\"You have no property selected!\")\n",
    "        else:\n",
    "            clear()\n",
    "            print(f\"You are modifying {self.current_property.name}\")\n",
    "        while True:\n",
    "            action = input(\"What would you like to modify? Income/Expense/Investment or RETURN \")\n",
    "            \n",
    "            if action.lower() == \"income\":\n",
    "                self.mod_income()\n",
    "            elif action.lower() == \"expense\":\n",
    "                self.mod_expense()\n",
    "            elif action.lower() == \"investment\":\n",
    "                self.mod_inv()\n",
    "            elif action.lower() == \"return\":\n",
    "                return\n",
    "            else:\n",
    "                print(\"Invalid input!\")\n",
    "            \n",
    "            breaking = input(\"Do you still have to modify other things further? Y/N\")\n",
    "            if breaking.lower() in [\"n\",\"no\"]:\n",
    "                self.current_property.cashflow = self.current_property.total_income - self.current_property.total_expenses\n",
    "                self.calc_roi()\n",
    "                self.show_property_roi()\n",
    "                break\n",
    "                \n",
    "        \n",
    "        \n",
    "    def mod_income(self):\n",
    "        while True:\n",
    "            print(\"Please enter income information\")\n",
    "            income_name = input(\"Enter income name \")\n",
    "            income_value = int(input(\"Enter income amount: \"))\n",
    "            inc = Income(income_name,income_value)\n",
    "            self.current_property.income[income_name] = income_value\n",
    "            print(f\"You have added {income_name} as an income \")\n",
    "            ret = input(\"Do you have more income to add? Y/N \")\n",
    "            if ret.lower() in [\"no\",\"n\"]:\n",
    "                clear()\n",
    "                self.current_property.total_income = sum(self.current_property.income.values())\n",
    "                print(f\"\\n{self.current_property.total_income} is your total income\\n\")\n",
    "                break\n",
    "        \n",
    "    \n",
    "    def mod_expense(self):\n",
    "        while True:\n",
    "            print(\"Please enter expenses information \")\n",
    "            expense_name = input(\"Enter expense name \")\n",
    "            expense_value = int(input(\"Enter amount of expense \"))\n",
    "            exp = Expenses(expense_name,expense_value)\n",
    "            self.current_property.expenses[expense_name] = expense_value\n",
    "            print(f\"You have added {expense_name} as an expense \")\n",
    "            ret = input(\"Do you have more expenses to add? Y/N \")\n",
    "            if ret.lower() in [\"no\",\"n\"]:\n",
    "                clear()\n",
    "                self.current_property.total_expenses = sum(self.current_property.expenses.values())\n",
    "                self.current_property.cashflow = self.current_property.total_income - self.current_property.total_expenses\n",
    "                print(f\"\\n{self.current_property.total_expenses} is your total expenses\\n\")\n",
    "                break\n",
    "           \n",
    "    \n",
    "    def mod_inv(self):\n",
    "        while True:\n",
    "            print(\"Please enter investment information\")\n",
    "            inv_name = input(\"Enter investment name \")\n",
    "            inv_value = int(input(\"Enter amount of investment \"))\n",
    "            inv = Investments(inv_name,inv_value)\n",
    "            self.current_property.investments[inv_name] = inv_value\n",
    "            print(f\"You have added {inv_name} as an investment \")\n",
    "            ret = input(\"Do you have more investments to add? Y/N \")\n",
    "            if ret.lower() in [\"no\",\"n\"]:\n",
    "                clear()\n",
    "                self.current_property.total_investments = sum(self.current_property.investments.values())\n",
    "                print(f\"\\n{self.current_property.total_investments} is your total investments\\n\")\n",
    "                break     \n",
    "\n",
    "    def calc_roi(self):\n",
    "        clear()\n",
    "        self.current_property.roi = f\"{((self.current_property.cashflow*12)/self.current_property.total_investments)*100} %\"       \n",
    "   \n",
    "    def create_property(self):\n",
    "        prop_name = input(\"Please enter a name for this property: \")\n",
    "        prop_name = Property(prop_name)\n",
    "        self.current_property = prop_name\n",
    "        \n",
    "        self.mod_income()\n",
    "            \n",
    "        self.mod_expense()\n",
    "       \n",
    "        self.mod_inv()\n",
    "        \n",
    "        self.calc_roi()\n",
    "        \n",
    "        self.show_property_roi()\n",
    "       \n",
    "        self.current_user.properties.append(prop_name)   \n",
    "    \n",
    "    def show_property_roi(self):\n",
    "        print(f\"{self.current_property.name} has a Cash on Cash ROI of {self.current_property.roi}\")\n",
    "        \n",
    "    \n",
    "    def run(self):\n",
    "        print(\"Welcome to the BEST ROI CALCULATOR\")\n",
    "        if not self.users:\n",
    "            self.create_user()\n",
    "        if not self.current_user.properties:\n",
    "            self.create_property()\n",
    "            \n",
    "            print(\"\\nCongratulations on entering your first property!\")\n",
    "        while True:\n",
    "            action = input(\"\"\"\n",
    "            \n",
    "            What would you like to do?\n",
    "            \n",
    "            Create Property - create a new property and see its ROI\n",
    "            \n",
    "            Portfolio - displays your portfolio\n",
    "            \n",
    "            Choose Property - Switch current property\n",
    "            \n",
    "            Modify Property - modifies property information like income,expenses,investments\n",
    "            \n",
    "            Delete Property - deletes property\n",
    "            \n",
    "            Create User\n",
    "            \n",
    "            Switch Users - \n",
    "            \n",
    "            Quit\n",
    "            \n",
    "            \"\"\")\n",
    "            \n",
    "            if action.lower() == \"create property\":\n",
    "                self.create_property()\n",
    "            elif action.lower() == \"portfolio\":\n",
    "                self.display_properties()\n",
    "            elif action.lower() == \"choose property\":\n",
    "                self.switch_property()\n",
    "            elif action.lower() == \"modify property\":\n",
    "                self.modify_property()\n",
    "            elif action.lower() == \"delete property\":\n",
    "                self.delete_property()\n",
    "            elif action.lower() == \"switch users\":\n",
    "                self.choose_user()\n",
    "            elif action.lower() == \"create user\":\n",
    "                self.create_user()\n",
    "            elif action.lower() == \"quit\":\n",
    "                quit()\n",
    "            else:\n",
    "                print(\"Enter valid input!\")\n",
    "                \n",
    "            \n",
    "            "
   ]
  },
  {
   "cell_type": "code",
   "execution_count": 50,
   "metadata": {},
   "outputs": [],
   "source": [
    "main = Main()"
   ]
  },
  {
   "cell_type": "code",
   "execution_count": null,
   "metadata": {},
   "outputs": [
    {
     "name": "stdout",
     "output_type": "stream",
     "text": [
      "Welcome to the BEST ROI CALCULATOR\n"
     ]
    }
   ],
   "source": [
    "main.run()"
   ]
  },
  {
   "cell_type": "markdown",
   "metadata": {},
   "source": [
    "# "
   ]
  },
  {
   "cell_type": "code",
   "execution_count": null,
   "metadata": {},
   "outputs": [],
   "source": []
  },
  {
   "cell_type": "code",
   "execution_count": null,
   "metadata": {},
   "outputs": [],
   "source": []
  }
 ],
 "metadata": {
  "colab": {
   "name": "Memoization & Dynamic Programming - Lecture.ipynb",
   "provenance": []
  },
  "kernelspec": {
   "display_name": "Python 3 (ipykernel)",
   "language": "python",
   "name": "python3"
  },
  "language_info": {
   "codemirror_mode": {
    "name": "ipython",
    "version": 3
   },
   "file_extension": ".py",
   "mimetype": "text/x-python",
   "name": "python",
   "nbconvert_exporter": "python",
   "pygments_lexer": "ipython3",
   "version": "3.9.12"
  }
 },
 "nbformat": 4,
 "nbformat_minor": 1
}
