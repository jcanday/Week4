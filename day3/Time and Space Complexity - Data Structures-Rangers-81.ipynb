{
 "cells": [
  {
   "cell_type": "markdown",
   "metadata": {},
   "source": [
    "# Time/Space Complexity - Intro to Data Structures (User Defined)\n",
    "\n",
    "### Topics to discuss today:\n",
    "\n",
    "<ul>\n",
    "    <li>Time and Space Complexity - What is it/How do we measure it</li>\n",
    "    <li>Asymptotic Analysis</li>\n",
    "    <li><strong>Data Structures</strong></li>\n",
    "    <li>Some of the popular sorting algorithms</li>\n",
    "</ul>\n",
    "\n",
    "### Data Structures to discuss:\n",
    "- Arrays\n",
    "- Stacks\n",
    "- Queues\n",
    "- Linked Lists\n",
    "    - Singly Linked Lists\n",
    "    - Traversing A Linked List\n",
    "    - Finding a node in a linked list\n",
    "    - Adding to a linked list\n"
   ]
  },
  {
   "cell_type": "markdown",
   "metadata": {},
   "source": [
    "## Time and Space Complexity\n",
    "\n",
    "#### What is it?\n",
    "\n",
    "Time and space complexity is the measure of how much time a given action(function) will take to solve a problem. In the same fashion, we determine how much a given data structure will need in terms of memory allocation. A problem can have multiple solutions and finding the optimal solution for the problem needs to be analyzed in time and space.\n",
    "\n",
    "#### How do we measure Time and Space Complexity?\n",
    "\n",
    "In order to measure time and space complexity we use Asymptotic analysis. The reason for this is because we need a way to measure different algorithms (functions) based on the size of their inputs in a mathmatical way. For example, we could have a function that is computed as f(n) and another that is g(n^2). All things around the function staying constant, the only thing that changes is the size of the input. Below is the chart that shows the different Asymptotic analysis formats. "
   ]
  },
  {
   "cell_type": "markdown",
   "metadata": {},
   "source": [
    "<table style=\"text-align:center;\" class=\"table table-bordered\">\n",
    "<tbody><tr>\n",
    "<td>constant</td>\n",
    "<td>−</td>\n",
    "<td>Ο(1)</td>\n",
    "</tr>\n",
    "<tr>\n",
    "<td>logarithmic</td>\n",
    "<td>−</td>\n",
    "<td>Ο(log n)</td>\n",
    "</tr>\n",
    "<tr>\n",
    "<td>linear</td>\n",
    "<td>−</td>\n",
    "<td>Ο(n)</td>\n",
    "</tr>\n",
    "<tr>\n",
    "<td>Linear Logarithmic</td>\n",
    "<td>−</td>\n",
    "<td>Ο(n log n)</td>\n",
    "</tr>\n",
    "<tr>\n",
    "<td>quadratic</td>\n",
    "<td>−</td>\n",
    "<td>Ο(n<sup>2</sup>)</td>\n",
    "</tr>\n",
    "<tr>\n",
    "<td>cubic</td>\n",
    "<td>−</td>\n",
    "<td>Ο(n<sup>3</sup>)</td>\n",
    "</tr>\n",
    "<tr>\n",
    "<td>polynomial</td>\n",
    "<td>−</td>\n",
    "<td>n<sup>Ο(1)</sup></td>\n",
    "</tr>\n",
    "<tr>\n",
    "<td>exponential</td>\n",
    "<td>−</td>\n",
    "<td>2<sup>Ο(n)</sup></td>\n",
    "</tr>\n",
    "</tbody></table>"
   ]
  },
  {
   "cell_type": "markdown",
   "metadata": {},
   "source": [
    "## Arrays"
   ]
  },
  {
   "cell_type": "markdown",
   "metadata": {},
   "source": [
    "In python we benefit from the dynamic array which means the block of memory will expand as needed for the given input to the array. In traditional arrays (depending on the type of operating system) we will usually store our inputs in 4 or 8 consecutive blocks of memory. Below is a diagram of how that looks under the hood:\n",
    "\n",
    "<img src=\"http://www.mathcs.emory.edu/~cheung/Courses/170/Syllabus/09/FIGS/array02x.gif\" style=\"height:250px; width:350px;\">"
   ]
  },
  {
   "cell_type": "code",
   "execution_count": 9,
   "metadata": {},
   "outputs": [
    {
     "data": {
      "text/plain": [
       "True"
      ]
     },
     "execution_count": 9,
     "metadata": {},
     "output_type": "execute_result"
    }
   ],
   "source": [
    "# 1Check if Number and its double exists\n",
    "# Given an array arr of integers, check if there exists two integers N and M such that N is the double of M ( i.e. N = 2 * M).\n",
    "# More formally check if there exists two indices i and j such that :\n",
    "# i != j \n",
    "# 0 <= i, j < arr.length\n",
    "# arr[i] == 2 * arr[j]\n",
    "# Example 1:\n",
    "# Input: arr = [10,2,5,3]\n",
    "# Output: true\n",
    "# Explanation: N = 10 is the double of M = 5,that is, 10 = 2 * 5.\n",
    "# Example 2:\n",
    "# Input: arr = [7,1,14,11]\n",
    "# Output: true\n",
    "# Explanation: N = 14 is the double of M = 7,that is, 14 = 2 * 7.\n",
    "# Example 3:\n",
    "# Input: arr = [3,1,7,11]\n",
    "# Output: false\n",
    "# Explanation: In this case does not exist N and M, such that N = 2 * M.\n",
    "\n",
    "def doubleUp(lst):\n",
    "    d = {}\n",
    "    for i in range(len(lst)): #O(n)\n",
    "        d{lst[i]} = lst[i] * 2\n",
    "    return d\n",
    "def doubleDown(doubleUp,lst):\n",
    "    for x in lst:\n",
    "        if x // 2 in doubleUp\n",
    "        \n",
    "        \n",
    "        \n",
    "doubleUp([7,1,14,11])\n",
    "            "
   ]
  },
  {
   "cell_type": "code",
   "execution_count": 19,
   "metadata": {},
   "outputs": [
    {
     "data": {
      "text/plain": [
       "2"
      ]
     },
     "execution_count": 19,
     "metadata": {},
     "output_type": "execute_result"
    }
   ],
   "source": [
    "# How many even digits?\n",
    "# Given an array of integers, return how many of them contain an even number of digits.\n",
    "# Example 1:\n",
    "# Input: nums = [12,345,2,6,7896]\n",
    "# Output: 2\n",
    "# Explanation:\n",
    "# 12 contains 2 digits (even number of digits).\n",
    "# 345 contains 3 digits (odd number of digits).\n",
    "# 2 contains 1 digit (odd number of digits).\n",
    "# 6 contains 1 digit (odd number of digits).\n",
    "# 7896 contains 4 digits (even number of digits).\n",
    "# Therefore only 12 and 7896 contain an even number of digits.\n",
    "# Example 2:\n",
    "# Input: nums = [555,901,482,1771]\n",
    "# Output: 1\n",
    "# Explanation:\n",
    "# Only 1771 contains an even number of digits.\n",
    "\n",
    "def evenizer(lst):\n",
    "    count = 0\n",
    "    for x in lst:\n",
    "        if len(str(x)) % 2 == 0:\n",
    "            count += 1\n",
    "            \n",
    "    return count\n",
    "def evenizer2(lst):\n",
    "    return len([x for x in lst if len(str(x)) % 2 == 0])\n",
    "\n",
    "def evenizer3(lst):\n",
    "    left = 0\n",
    "    right = len(lst)-1\n",
    "    count = 0\n",
    "    while left <= right:\n",
    "        if len(str(lst[left])) % 2 == 0:\n",
    "            count += 1\n",
    "        if len(str(lst[right])) % 2 == 0:\n",
    "            count += 1\n",
    "            \n",
    "        left += 1\n",
    "        right -=1\n",
    "    return count\n",
    "\n",
    "evenizer3([12,345,2,6,7896])"
   ]
  },
  {
   "cell_type": "markdown",
   "metadata": {},
   "source": [
    "## Which in python looks like this:"
   ]
  },
  {
   "cell_type": "code",
   "execution_count": null,
   "metadata": {},
   "outputs": [],
   "source": [
    "# Indexing an Array(list)\n",
    " # Constant Time and Space - O(1)\n",
    "\n",
    "# Searching through an array(list)\n",
    "# Linear Time - O(n) Constant Space - O(1)\n",
    "\n",
    "    \n",
    "# Copying an array\n",
    "# Linear Time - O(n) AND Linear Space - O(n)\n",
    "\n",
    "\n",
    "# Setting an index in an array(list)\n",
    "# Constant Time AND Constant Space - O(1)\n"
   ]
  },
  {
   "cell_type": "markdown",
   "metadata": {},
   "source": [
    "### Let's take a look at some of the time and space analysis of arrays"
   ]
  },
  {
   "cell_type": "code",
   "execution_count": null,
   "metadata": {},
   "outputs": [],
   "source": []
  },
  {
   "cell_type": "markdown",
   "metadata": {},
   "source": [
    "## Stacks and Queues\n",
    "\n",
    "** Stacks ** as the name suggests is a data structure that allows for data to follow the Last In First Out priciple(LIFO). Think of a stack of pancakes for example. To get the first pancake you would  start with the top and go down.\n",
    "\n",
    "##### Searching through a stack will be Linear Time O(n) - Constant Space O(1)\n",
    "##### Selecting the last item will be done in Constant Time O(1) - Constant Space O(1)\n",
    "##### Adding to the stack should take Constant Time O(1) - Constant Space O(1)\n",
    "\n",
    "** Queues ** are similar but in this case follow the First In First Out principle(FIFO). Think of this as a line in a black friday sale. The first person camped out for the big screen tv is the first to get it.\n",
    "\n",
    "##### Searching through a queue will be Linear Time O(n) - Constant Space O(1)\n",
    "##### Selecting the first item will be done in Constant Time O(1) - Constant Space O(1)\n",
    "##### Adding to the queue should take Constant Time O(1) - Constant Space O(1)"
   ]
  },
  {
   "cell_type": "code",
   "execution_count": 22,
   "metadata": {},
   "outputs": [
    {
     "data": {
      "text/plain": [
       "['__add__',\n",
       " '__bool__',\n",
       " '__class__',\n",
       " '__class_getitem__',\n",
       " '__contains__',\n",
       " '__copy__',\n",
       " '__delattr__',\n",
       " '__delitem__',\n",
       " '__dir__',\n",
       " '__doc__',\n",
       " '__eq__',\n",
       " '__format__',\n",
       " '__ge__',\n",
       " '__getattribute__',\n",
       " '__getitem__',\n",
       " '__gt__',\n",
       " '__hash__',\n",
       " '__iadd__',\n",
       " '__imul__',\n",
       " '__init__',\n",
       " '__init_subclass__',\n",
       " '__iter__',\n",
       " '__le__',\n",
       " '__len__',\n",
       " '__lt__',\n",
       " '__mul__',\n",
       " '__ne__',\n",
       " '__new__',\n",
       " '__reduce__',\n",
       " '__reduce_ex__',\n",
       " '__repr__',\n",
       " '__reversed__',\n",
       " '__rmul__',\n",
       " '__setattr__',\n",
       " '__setitem__',\n",
       " '__sizeof__',\n",
       " '__str__',\n",
       " '__subclasshook__',\n",
       " 'append',\n",
       " 'appendleft',\n",
       " 'clear',\n",
       " 'copy',\n",
       " 'count',\n",
       " 'extend',\n",
       " 'extendleft',\n",
       " 'index',\n",
       " 'insert',\n",
       " 'maxlen',\n",
       " 'pop',\n",
       " 'popleft',\n",
       " 'remove',\n",
       " 'reverse',\n",
       " 'rotate']"
      ]
     },
     "execution_count": 22,
     "metadata": {},
     "output_type": "execute_result"
    }
   ],
   "source": [
    "from collections import deque\n",
    "\n",
    "queue = deque()\n",
    "dir(queue)"
   ]
  },
  {
   "cell_type": "markdown",
   "metadata": {},
   "source": [
    "## Linked List (Data Structure)\n",
    "\n",
    "A linked list is created by using the node class. We create a Node object and create another class to use this node object. We pass the appropriate values thorugh the node object to point the to the next data elements.\n",
    "\n",
    "There are some advantages and disadvantages with this data structure. **Advantages** Linked Lists can save memory because they can be flexibile with memory management which saves memory. **Disadvantages** Finding or adding to the list requires traversing the entire list."
   ]
  },
  {
   "cell_type": "code",
   "execution_count": 29,
   "metadata": {},
   "outputs": [
    {
     "name": "stdout",
     "output_type": "stream",
     "text": [
      "Sun\n",
      "Mon\n",
      "Tue\n",
      "Thurs\n",
      "Friday\n"
     ]
    }
   ],
   "source": [
    "# Linked List Implementation\n",
    "#Node Class\n",
    "\n",
    "class Node():\n",
    "    def __init__(self,value):\n",
    "        self.value = value\n",
    "        self.next = None\n",
    "        \n",
    "class LinkedList():\n",
    "    def __init__(self):\n",
    "        self.head = None\n",
    "    \n",
    "    # pushOn - place item at head of linked list\n",
    "    def pushOn(self,new_value):\n",
    "        new_node = Node(new_value)\n",
    "        new_node.next = self.head\n",
    "        self.head = new_node\n",
    "    \n",
    "    # insertAfter - place an item after another in the linked lis\n",
    "    def insertAfter(self,prev_node,new_value):\n",
    "        #check if prev_node exists\n",
    "        if prev_node is None:\n",
    "            print(\"The given previous node must not be empty\")\n",
    "            return\n",
    "        \n",
    "        #create a new node\n",
    "        new_node = Node(new_value)\n",
    "        \n",
    "        # Update new_node's next pointer to the prev_nodes'next\n",
    "        new_node.next = prev_node.next\n",
    "        \n",
    "        prev_node.next = new_node\n",
    "        \n",
    "    # append - append item to end of linked list\n",
    "    def append(self,new_value):\n",
    "        new_node = Node(new_value)\n",
    "        \n",
    "        #check if the Linked List is empty -- if so make this the head\n",
    "        if self.head is None:\n",
    "            self.head == new_node\n",
    "        \n",
    "        # if not empty, traverse linked list and append at end\n",
    "        last = self.head\n",
    "        \n",
    "        #while node has a next pointer change last to become next\n",
    "        while last.next:\n",
    "            last = last.next\n",
    "         \n",
    "        last.next = new_node\n",
    "        \n",
    "    # traverse - traverse the linked list\n",
    "    def traverse(self):\n",
    "        temp = self.head\n",
    "        \n",
    "        #while temp is nt none => loop through nodes and print values\n",
    "        \n",
    "        while temp:\n",
    "            print(temp.value)\n",
    "            temp = temp.next\n",
    "            \n",
    "weekdays_list = LinkedList()\n",
    "\n",
    "weekdays_list.pushOn('Mon')\n",
    "weekdays_list.append('Tue')\n",
    "weekdays_list.append('Thurs')\n",
    "weekdays_list.insertAfter(weekdays_list.head.next.next,'Friday')\n",
    "weekdays_list.pushOn('Sun')\n",
    "weekdays_list.traverse()"
   ]
  },
  {
   "cell_type": "code",
   "execution_count": null,
   "metadata": {},
   "outputs": [],
   "source": []
  }
 ],
 "metadata": {
  "kernelspec": {
   "display_name": "Python 3 (ipykernel)",
   "language": "python",
   "name": "python3"
  },
  "language_info": {
   "codemirror_mode": {
    "name": "ipython",
    "version": 3
   },
   "file_extension": ".py",
   "mimetype": "text/x-python",
   "name": "python",
   "nbconvert_exporter": "python",
   "pygments_lexer": "ipython3",
   "version": "3.9.12"
  }
 },
 "nbformat": 4,
 "nbformat_minor": 2
}
